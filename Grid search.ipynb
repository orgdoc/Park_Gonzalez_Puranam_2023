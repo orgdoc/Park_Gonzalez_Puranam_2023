{
 "cells": [
  {
   "cell_type": "code",
   "execution_count": 1,
   "metadata": {},
   "outputs": [],
   "source": [
    "import pandas as pd\n",
    "import seaborn as sns\n",
    "import math\n",
    "import random\n",
    "import numpy as np\n",
    "import matplotlib.pyplot as plt\n",
    "import datetime"
   ]
  },
  {
   "cell_type": "code",
   "execution_count": 2,
   "metadata": {},
   "outputs": [],
   "source": [
    "# Read data file\n",
    "#data = pd.read_csv(r'C:\\Users\\sangh\\Desktop\\Research\\Group Learning\\Data to share\\individual.csv') \n",
    "data = pd.read_csv(r'C:\\Users\\sangh\\Desktop\\Research\\Group Learning\\Data to share\\Groups with DDM.csv') \n",
    "#data = pd.read_csv(r'C:\\Users\\sangh\\Desktop\\Research\\Group Learning\\Data to share\\Groups with CDM.csv') "
   ]
  },
  {
   "cell_type": "code",
   "execution_count": 23,
   "metadata": {},
   "outputs": [],
   "source": [
    "# Parameter setting\n",
    "ndim_phi = 100 # The number of grids for phi\n",
    "ndim_tau = 100 # The number of grids for tau\n",
    "samplesize = 1 # The sample size for random sampling for priors\n",
    "T = 100 # The number of rounds (fixed)\n",
    "nsample = 56 # The number of subjects; (Individual = 54, Group with DDM = 56, Group with CDM = 54)"
   ]
  },
  {
   "cell_type": "code",
   "execution_count": 24,
   "metadata": {},
   "outputs": [],
   "source": [
    "# Dataframe for outcome\n",
    "result = pd.DataFrame(columns = ['phi', 'tau', 'Log-likelihood'])"
   ]
  },
  {
   "cell_type": "code",
   "execution_count": 25,
   "metadata": {},
   "outputs": [],
   "source": [
    "from tqdm import tqdm"
   ]
  },
  {
   "cell_type": "code",
   "execution_count": 26,
   "metadata": {},
   "outputs": [
    {
     "name": "stderr",
     "output_type": "stream",
     "text": [
      "100%|██████████████████████████████████████████████████████████████████████████████| 100/100 [1:03:38<00:00, 38.19s/it]\n"
     ]
    }
   ],
   "source": [
    "phi_grid = []\n",
    "tau_grid = []\n",
    "Likelihood = []\n",
    "heatmap = []\n",
    "# Gridsearch\n",
    "for i in tqdm(range(ndim_phi)):\n",
    "    phi = 0.01 + i/ndim_phi\n",
    "    for j in range(ndim_tau):\n",
    "        tau = 0.05 + j/ndim_tau # Increase the minimum value when you encounter inf\n",
    "        summ = 0\n",
    "        for k in range(nsample):\n",
    "            for sample in range(samplesize):\n",
    "                for t in range(T):\n",
    "                    if t == 0: # Initialize beliefs\n",
    "                        #belief = [0.1+random.uniform(0,0.8), 0.1+random.uniform(0,0.8)] #Randomized priors; need greater samplesize and take longer \n",
    "                        belief = [0.5, 0.5] # priors are fixed at 0.5; samplesize=1\n",
    "                    expbelief = [math.exp(belief[0]/tau),math.exp(belief[1]/tau)] \n",
    "                    prob_A = expbelief[0]/(expbelief[0] + expbelief[1]) # Soft-max choice rule\n",
    "                    if data.iloc[k*100+t,2] == 0:\n",
    "                        summ += np.log(prob_A) # Add likelihood\n",
    "                        belief[0] = (1-phi)*belief[0] + phi*data.iloc[k*100+t,3] # Exponential weighted averaging\n",
    "                    else:\n",
    "                        summ += np.log(1-prob_A) # Add likelihood\n",
    "                        belief[1] = (1-phi)*belief[1] + phi*data.iloc[k*100+t,3] # Exponential weighted averaging\n",
    "        phi_grid.append(\"{:.2f}\".format(phi)) # Store parameter\n",
    "        tau_grid.append(\"{:.2f}\".format(tau)) # Store parameter\n",
    "        Likelihood.append(summ) # Store likelihood\n",
    "result['phi'] = phi_grid\n",
    "result['tau'] = tau_grid\n",
    "result['Log-likelihood'] = Likelihood"
   ]
  },
  {
   "cell_type": "code",
   "execution_count": 27,
   "metadata": {},
   "outputs": [],
   "source": [
    "maxLL = max(result['Log-likelihood'])"
   ]
  },
  {
   "cell_type": "code",
   "execution_count": 28,
   "metadata": {},
   "outputs": [],
   "source": [
    "z = (-2)*(result['Log-likelihood'] - maxLL)"
   ]
  },
  {
   "cell_type": "code",
   "execution_count": 29,
   "metadata": {},
   "outputs": [],
   "source": [
    "z[z>50]= np.nan"
   ]
  },
  {
   "cell_type": "code",
   "execution_count": 30,
   "metadata": {},
   "outputs": [],
   "source": [
    "result['Log-likelihood Ratio'] = z"
   ]
  },
  {
   "cell_type": "code",
   "execution_count": 31,
   "metadata": {},
   "outputs": [],
   "source": [
    "optimal = result[result['Log-likelihood Ratio'].values == 0]"
   ]
  },
  {
   "cell_type": "code",
   "execution_count": null,
   "metadata": {},
   "outputs": [],
   "source": [
    "print(optimal)"
   ]
  },
  {
   "cell_type": "code",
   "execution_count": 36,
   "metadata": {},
   "outputs": [],
   "source": [
    "heatmap_data = pd.pivot_table(result[['phi','tau','Log-likelihood Ratio']], values='Log-likelihood Ratio', index=['tau'], columns='phi')"
   ]
  },
  {
   "cell_type": "code",
   "execution_count": 43,
   "metadata": {},
   "outputs": [
    {
     "data": {
      "image/png": "[encoded data removed]",
      "text/plain": [
       "<Figure size 432x288 with 2 Axes>"
      ]
     },
     "metadata": {
      "needs_background": "light"
     },
     "output_type": "display_data"
    }
   ],
   "source": [
    "sns.heatmap(heatmap_data,cmap=\"coolwarm\")\n",
    "plt.xlabel(\"phi\", size=14)\n",
    "plt.ylabel(\"tau\", size=14)\n",
    "plt.title(\"Grid Search\", size=14)\n",
    "plt.tight_layout()"
   ]
  }
 ],
 "metadata": {
  "kernelspec": {
   "display_name": "Python 3",
   "language": "python",
   "name": "python3"
  },
  "language_info": {
   "codemirror_mode": {
    "name": "ipython",
    "version": 3
   },
   "file_extension": ".py",
   "mimetype": "text/x-python",
   "name": "python",
   "nbconvert_exporter": "python",
   "pygments_lexer": "ipython3",
   "version": "3.8.5"
  }
 },
 "nbformat": 4,
 "nbformat_minor": 4
}
